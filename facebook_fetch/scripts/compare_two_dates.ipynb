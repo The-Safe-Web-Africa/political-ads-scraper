{
 "cells": [
  {
   "cell_type": "code",
   "execution_count": 26,
   "metadata": {},
   "outputs": [],
   "source": [
    "\n",
    "import json\n",
    "import sys\n",
    "import collections\n",
    "import datetime\n",
    "\n",
    "import dateutil.parser\n",
    "from matplotlib import pyplot as plt\n",
    "\n",
    "from facebook_fetch import fetch"
   ]
  },
  {
   "cell_type": "code",
   "execution_count": 2,
   "metadata": {},
   "outputs": [],
   "source": [
    "filename_old = '/home/michel/projects/desinfo/political-ads-scraper/data/facebook/API/FR/facebook-ads-archive_FR_2019-05-20_14-03-03.json'\n",
    "filename_new = '/home/michel/projects/desinfo/political-ads-scraper/data/facebook/API/FR/facebook-ads-archive_FR_2019-05-27_14-53-52.json'"
   ]
  },
  {
   "cell_type": "code",
   "execution_count": 3,
   "metadata": {},
   "outputs": [],
   "source": [
    "with open(filename_old, 'r') as f:\n",
    "    ads_old = json.load(f)\n",
    "with open(filename_new, 'r') as f:\n",
    "    ads_new = json.load(f)"
   ]
  },
  {
   "cell_type": "code",
   "execution_count": 4,
   "metadata": {},
   "outputs": [
    {
     "name": "stdout",
     "output_type": "stream",
     "text": [
      "Comparing 13550 old ads and 9288 new ads.\n"
     ]
    }
   ],
   "source": [
    "print('Comparing {} old ads and {} new ads.'.format(len(ads_old), len(ads_new)))"
   ]
  },
  {
   "cell_type": "code",
   "execution_count": 5,
   "metadata": {},
   "outputs": [
    {
     "name": "stdout",
     "output_type": "stream",
     "text": [
      "9288 ads have the field \"ad_creation_time\" on a total of 9288\n",
      "9236 ads have the field \"ad_creative_body\" on a total of 9288\n",
      "8200 ads have the field \"ad_creative_link_caption\" on a total of 9288\n",
      "5458 ads have the field \"ad_creative_link_description\" on a total of 9288\n",
      "8467 ads have the field \"ad_creative_link_title\" on a total of 9288\n",
      "9288 ads have the field \"ad_delivery_start_time\" on a total of 9288\n",
      "2646 ads have the field \"ad_delivery_stop_time\" on a total of 9288\n",
      "9288 ads have the field \"ad_snapshot_url\" on a total of 9288\n",
      "9288 ads have the field \"currency\" on a total of 9288\n",
      "9287 ads have the field \"demographic_distribution\" on a total of 9288\n",
      "1129 ads have the field \"funding_entity\" on a total of 9288\n",
      "9197 ads have the field \"impressions\" on a total of 9288\n",
      "9288 ads have the field \"page_id\" on a total of 9288\n",
      "9288 ads have the field \"page_name\" on a total of 9288\n",
      "9288 ads have the field \"region_distribution\" on a total of 9288\n",
      "9286 ads have the field \"spend\" on a total of 9288\n",
      "\n"
     ]
    }
   ],
   "source": [
    "\n",
    "for field in fetch.FIELDS:\n",
    "    print('{} ads have the field \"{}\" on a total of {}'.format(\n",
    "        sum([field in ad for ad in ads_new]),\n",
    "        field,\n",
    "        len(ads_new)\n",
    "    ))\n",
    "print()\n"
   ]
  },
  {
   "cell_type": "code",
   "execution_count": 7,
   "metadata": {},
   "outputs": [
    {
     "name": "stdout",
     "output_type": "stream",
     "text": [
      "695 ads have been added.\n",
      "4957 ads have been removed.\n"
     ]
    }
   ],
   "source": [
    "# Index\n",
    "\n",
    "def to_dict(ads):\n",
    "    ads_by_id = {}\n",
    "    for ad in ads:\n",
    "        ad_id = fetch.get_ad_id(ad)\n",
    "        assert ad_id not in ads_by_id, ad\n",
    "        ads_by_id[ad_id] = ad\n",
    "    return ads_by_id\n",
    "\n",
    "ads_old_by_id = to_dict(ads_old)\n",
    "ads_new_by_id = to_dict(ads_new)\n",
    "\n",
    "\n",
    "# Find removed ads\n",
    "\n",
    "old_ids = set(ads_old_by_id.keys())\n",
    "new_ids = set(ads_new_by_id.keys())\n",
    "\n",
    "new_only_ids = new_ids - old_ids\n",
    "old_only_ids = old_ids - new_ids\n",
    "both_ids = old_ids & new_ids\n",
    "\n",
    "assert len(new_only_ids) + len(both_ids) == len(new_ids)\n",
    "assert len(old_only_ids) + len(both_ids) == len(old_ids)\n",
    "\n",
    "print('{} ads have been added.'.format(len(new_only_ids)))\n",
    "print('{} ads have been removed.'.format(len(old_only_ids)))"
   ]
  },
  {
   "cell_type": "code",
   "execution_count": 22,
   "metadata": {},
   "outputs": [],
   "source": [
    "ad_creation_date_list = []\n",
    "ad_delivery_start_date_list = []\n",
    "ad_delivery_stop_date_list = []\n",
    "\n",
    "for removed_ad_id in old_only_ids:\n",
    "    removed_ad = ads_old_by_id[removed_ad_id]\n",
    "\n",
    "    if 'ad_creation_time' in removed_ad:\n",
    "        d = dateutil.parser.parse(removed_ad['ad_creation_time'])\n",
    "        ad_creation_date_list.append(d.date())\n",
    "    if 'ad_delivery_start_time' in removed_ad:\n",
    "        d = dateutil.parser.parse(removed_ad['ad_delivery_start_time'])\n",
    "        ad_delivery_start_date_list.append(d.date())\n",
    "    if 'ad_delivery_stop_time' in removed_ad:\n",
    "        d = dateutil.parser.parse(removed_ad['ad_delivery_stop_time'])\n",
    "        ad_delivery_stop_date_list.append(d.date())\n"
   ]
  },
  {
   "cell_type": "code",
   "execution_count": 32,
   "metadata": {
    "scrolled": false
   },
   "outputs": [
    {
     "data": {
      "text/plain": [
       "(4542, 4957)"
      ]
     },
     "execution_count": 32,
     "metadata": {},
     "output_type": "execute_result"
    }
   ],
   "source": [
    "sum([\n",
    "    d <= datetime.date(2019, 4, 15)\n",
    "    for d in ad_delivery_stop_date_list\n",
    "]), len(old_only_ids)"
   ]
  },
  {
   "cell_type": "code",
   "execution_count": 31,
   "metadata": {},
   "outputs": [
    {
     "data": {
      "text/plain": [
       "(98, 9288)"
      ]
     },
     "execution_count": 31,
     "metadata": {},
     "output_type": "execute_result"
    }
   ],
   "source": [
    "sum([\n",
    "    dateutil.parser.parse(ad['ad_delivery_stop_time']).date() <= datetime.date(2019, 4, 15)\n",
    "    for ad in ads_new\n",
    "    if 'ad_delivery_stop_time' in ad\n",
    "]), len(ads_new)"
   ]
  },
  {
   "cell_type": "code",
   "execution_count": null,
   "metadata": {},
   "outputs": [],
   "source": []
  }
 ],
 "metadata": {
  "kernelspec": {
   "display_name": "Python 3",
   "language": "python",
   "name": "python3"
  },
  "language_info": {
   "codemirror_mode": {
    "name": "ipython",
    "version": 3
   },
   "file_extension": ".py",
   "mimetype": "text/x-python",
   "name": "python",
   "nbconvert_exporter": "python",
   "pygments_lexer": "ipython3",
   "version": "3.6.7"
  }
 },
 "nbformat": 4,
 "nbformat_minor": 2
}
