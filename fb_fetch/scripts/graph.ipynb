{
 "cells": [
  {
   "cell_type": "code",
   "execution_count": 9,
   "metadata": {},
   "outputs": [],
   "source": [
    "import json\n",
    "import datetime\n",
    "from matplotlib import pyplot as plt"
   ]
  },
  {
   "cell_type": "code",
   "execution_count": 2,
   "metadata": {},
   "outputs": [],
   "source": [
    "with open('/home/michel/projects/desinfo/political-ads-scraper/data/graph_nb_ads_facebook.json', 'r') as f:\n",
    "    graph_data = json.load(f)"
   ]
  },
  {
   "cell_type": "code",
   "execution_count": 4,
   "metadata": {},
   "outputs": [
    {
     "data": {
      "text/plain": [
       "{'API': {'2019-05-16': 12934,\n",
       "  '2019-05-20': 13550,\n",
       "  '2019-05-27': 9277,\n",
       "  '2019-05-31': 9642,\n",
       "  '2019-06-01': 9803,\n",
       "  '2019-06-02': 9867,\n",
       "  '2019-06-03': 9925,\n",
       "  '2019-06-04': 10023,\n",
       "  '2019-06-05': 10054,\n",
       "  '2019-06-06': 10216,\n",
       "  '2019-06-07': 10399},\n",
       " 'report': {'2019-05-10': 0,\n",
       "  '2019-05-11': 0,\n",
       "  '2019-05-12': 0,\n",
       "  '2019-05-13': 0,\n",
       "  '2019-05-14': 1405,\n",
       "  '2019-05-15': 4953,\n",
       "  '2019-05-16': 11165,\n",
       "  '2019-05-17': 11577,\n",
       "  '2019-05-18': 11791,\n",
       "  '2019-05-19': 11805,\n",
       "  '2019-05-20': 12069,\n",
       "  '2019-05-21': 12263,\n",
       "  '2019-05-22': 12487,\n",
       "  '2019-05-23': 12675,\n",
       "  '2019-05-24': 12888,\n",
       "  '2019-05-25': 10880,\n",
       "  '2019-05-26': 15507,\n",
       "  '2019-05-27': 15681,\n",
       "  '2019-05-28': 15502,\n",
       "  '2019-05-29': 15908,\n",
       "  '2019-05-30': 16080,\n",
       "  '2019-05-31': 16164,\n",
       "  '2019-06-01': 14091,\n",
       "  '2019-06-02': 6145,\n",
       "  '2019-06-03': 6260,\n",
       "  '2019-06-05': 6252,\n",
       "  '2019-06-06': 6383,\n",
       "  '2019-06-07': 0}}"
      ]
     },
     "execution_count": 4,
     "metadata": {},
     "output_type": "execute_result"
    }
   ],
   "source": [
    "data_FR = graph_data['FR']\n",
    "data_FR"
   ]
  },
  {
   "cell_type": "code",
   "execution_count": 16,
   "metadata": {},
   "outputs": [
    {
     "data": {
      "text/plain": [
       "[<matplotlib.lines.Line2D at 0x7f1b4f734c50>]"
      ]
     },
     "execution_count": 16,
     "metadata": {},
     "output_type": "execute_result"
    },
    {
     "data": {
      "image/png": "[encoded data removed]",
      "text/plain": [
       "<Figure size 432x288 with 1 Axes>"
      ]
     },
     "metadata": {
      "needs_background": "light"
     },
     "output_type": "display_data"
    }
   ],
   "source": [
    "\n",
    "time_series = data_FR['API']\n",
    "dates = [\n",
    "    datetime.date(*map(int, date_str.split('-')))\n",
    "    for date_str, nb_ads in time_series.items()\n",
    "]\n",
    "values = list(time_series.values())\n",
    "\n",
    "\n",
    "plt.plot(dates, values, color='blue', marker='o', linestyle='dashed')\n",
    "\n",
    "\n",
    "time_series = data_FR['report']\n",
    "dates = [\n",
    "    datetime.date(*map(int, date_str.split('-')))\n",
    "    for date_str, nb_ads in time_series.items()\n",
    "]\n",
    "values = list(time_series.values())\n",
    "\n",
    "\n",
    "plt.plot(dates, values, color='green', marker='o', linestyle='dashed')\n"
   ]
  },
  {
   "cell_type": "code",
   "execution_count": null,
   "metadata": {},
   "outputs": [],
   "source": []
  }
 ],
 "metadata": {
  "kernelspec": {
   "display_name": "Python 3",
   "language": "python",
   "name": "python3"
  },
  "language_info": {
   "codemirror_mode": {
    "name": "ipython",
    "version": 3
   },
   "file_extension": ".py",
   "mimetype": "text/x-python",
   "name": "python",
   "nbconvert_exporter": "python",
   "pygments_lexer": "ipython3",
   "version": "3.6.7"
  }
 },
 "nbformat": 4,
 "nbformat_minor": 2
}
