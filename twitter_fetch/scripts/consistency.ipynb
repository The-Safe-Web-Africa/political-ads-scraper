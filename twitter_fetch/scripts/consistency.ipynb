{
 "cells": [
  {
   "cell_type": "code",
   "execution_count": 20,
   "metadata": {},
   "outputs": [],
   "source": [
    "import pathlib\n",
    "import datetime\n",
    "import json\n",
    "\n",
    "DATA_DIR = pathlib.Path('/home/michel/projects/desinfo/political-ads-scraper/data')"
   ]
  },
  {
   "cell_type": "code",
   "execution_count": 15,
   "metadata": {},
   "outputs": [],
   "source": [
    "ads_by_date = {}\n",
    "\n",
    "for filename in sorted(list((DATA_DIR / 'twitter').iterdir())):\n",
    "    fetch_datetime = datetime.datetime.strptime(\n",
    "        filename.stem,\n",
    "        'twitter-ads_EU_%Y-%m-%d_%H-%M-%S',\n",
    "    )\n",
    "\n",
    "    with open(filename, 'r') as f:\n",
    "        ads = json.load(f)\n",
    "\n",
    "    ads_by_date[fetch_datetime.strftime(\"%Y-%m-%d\")] = ads\n"
   ]
  },
  {
   "cell_type": "code",
   "execution_count": 19,
   "metadata": {},
   "outputs": [
    {
     "data": {
      "text/plain": [
       "dict_keys(['2019-06-07', '2019-06-08', '2019-06-09', '2019-06-10', '2019-06-11', '2019-06-12', '2019-06-13', '2019-06-14'])"
      ]
     },
     "execution_count": 19,
     "metadata": {},
     "output_type": "execute_result"
    }
   ],
   "source": [
    "ads_by_date.keys()"
   ]
  },
  {
   "cell_type": "code",
   "execution_count": 31,
   "metadata": {},
   "outputs": [
    {
     "data": {
      "text/plain": [
       "dict_keys(['advertisers_data', 'advertisers_tweets'])"
      ]
     },
     "execution_count": 31,
     "metadata": {},
     "output_type": "execute_result"
    }
   ],
   "source": [
    "ads_by_date['2019-06-10'].keys()"
   ]
  },
  {
   "cell_type": "markdown",
   "metadata": {},
   "source": [
    "## Advertisers"
   ]
  },
  {
   "cell_type": "code",
   "execution_count": 35,
   "metadata": {
    "scrolled": false
   },
   "outputs": [],
   "source": [
    "adv_lists = [\n",
    "    tuple([\n",
    "        adv['id_str']\n",
    "        for adv in ads_by_date[date]['advertisers_data']\n",
    "    ])\n",
    "    for date in ads_by_date.keys()\n",
    "]"
   ]
  },
  {
   "cell_type": "code",
   "execution_count": 55,
   "metadata": {},
   "outputs": [],
   "source": [
    "assert len(set(adv_lists)) == 1\n",
    "adv_ids = adv_lists[0]"
   ]
  },
  {
   "cell_type": "markdown",
   "metadata": {},
   "source": [
    "## Tweets"
   ]
  },
  {
   "cell_type": "code",
   "execution_count": 64,
   "metadata": {
    "scrolled": false
   },
   "outputs": [
    {
     "name": "stdout",
     "output_type": "stream",
     "text": [
      "57043880 2019-06-10 {'1135551352338362372', '1135579175899865088', '1135835273353474049', '1135846176903876608', '1135817285191569408', '1135888800746487808', '1135592780724674560', '1135878229519228929', '1135598139535233024', '1135798285158014976', '1133010619328860161', '1064824170196819968', '1135595001667305472', '1135856470761889792', '1135586726435532800', '1135877625807851520', '1135859860308930560', '1135856867320766465', '1135594439374774285', '1135854305586634752', '1135883995227533313', '1135845438920232960', '1135822085304061954', '1135826961245323264', '1135824292204167176', '1135815219945648128', '1135816966734786560', '1135831458378125312', '1135602040682532865', '1135891028081303552', '1131467518923685888', '1135827478008750082', '1064823921306812416', '1135824351561945088', '1135561706371989505', '1136262049502244865', '1135570464661745665', '1135555016574537729', '1135582207098130432', '1135856805123383296', '1135887120558632961', '1064823918492405761', '1135877821509853184', '1135808337994571776', '1135858058222088193', '1135875627406565376', '1135849603809665026', '1135564016116518912', '1135817908473536512', '1135846996542152704', '1135874883253166081', '1135857324894171141', '1135819366103212032', '1135571971251613696', '1135591075555545090', '1135803776793755648', '1135824358608375809', '1135818262741229569', '1135799763369168897', '1135816889081483265', '1135586566271844354', '1135824679208443904', '1135864043498029057', '1135575839289028610', '1135816506275704833', '1135877377760923649', '1135815972139536384', '1135560048879579138', '1135881230036164608', '1135578110290735104', '1128311918480056321', '1135874281810866176', '1135595067467620355', '1135857738309931008', '1135556835627454464', '1135600215799545856', '1135875200690655232', '1135831101442875392', '1135567949178310656', '1135863125490749440', '1064824170448470021', '1135886546530426880', '1135568206813437952', '1128972999904964608', '1135828747280666624', '1135608500070100992', '1135879146796724227', '1135821571170492416', '1064824170322681857', '1135838133474537472', '1135866244119367682', '1133641434433753088', '1135883938315014149', '1135592068380684295', '1135846809887227904', '1135567581543391232', '1135579703325188097', '1135817749815603200', '1064825428513189888', '1135839473319780352', '1135823574802030592', '1135548842999472129', '1135828150297006081', '1132977508117299201', '1064818130663469057', '1135862875724091392', '1134369174963326982'} {'1131467518923685888', '1133641434433753088', '1132977508117299201', '1136262049502244865', '1064823921306812416', '1064824170322681857', '1064824170448470021', '1064824170196819968', '1064818130663469057', '1128972999904964608', '1133010619328860161', '1064825428513189888', '1064823918492405761', '1128311918480056321', '1134369174963326982'}\n"
     ]
    }
   ],
   "source": [
    "for adv_id in adv_ids:\n",
    "    for date_str in list(ads_by_date.keys())[:-1]:\n",
    "        date = datetime.date(*map(int, date_str.split('-')))\n",
    "        date_tomorrow = date + datetime.timedelta(1)\n",
    "\n",
    "        tweet_ids_1 = set([\n",
    "            tweet['basic_data']['tweetId']\n",
    "            for tweet in ads_by_date[date_str]['advertisers_tweets'][adv_id]\n",
    "        ])\n",
    "        tweet_ids_2 = set([\n",
    "            tweet['basic_data']['tweetId']\n",
    "            for tweet in ads_by_date[str(date_tomorrow)]['advertisers_tweets'][adv_id]\n",
    "        ])\n",
    "\n",
    "        if not (tweet_ids_1 <= tweet_ids_2):\n",
    "            print(adv_id, date_str, tweet_ids_1, tweet_ids_2)\n"
   ]
  },
  {
   "cell_type": "code",
   "execution_count": 66,
   "metadata": {},
   "outputs": [
    {
     "name": "stdout",
     "output_type": "stream",
     "text": [
      "2019-06-07 107\n",
      "2019-06-08 107\n",
      "2019-06-09 107\n",
      "2019-06-10 107\n",
      "2019-06-11 15\n",
      "2019-06-12 15\n",
      "2019-06-13 15\n",
      "2019-06-14 15\n"
     ]
    }
   ],
   "source": [
    "adv_id = '57043880'\n",
    "for date_str in ads_by_date.keys():\n",
    "    date = datetime.date(*map(int, date_str.split('-')))\n",
    "\n",
    "    tweet_ids = set([\n",
    "        tweet['basic_data']['tweetId']\n",
    "        for tweet in ads_by_date[date_str]['advertisers_tweets'][adv_id]\n",
    "    ])\n",
    "\n",
    "    print(date, len(tweet_ids))\n"
   ]
  },
  {
   "cell_type": "code",
   "execution_count": null,
   "metadata": {},
   "outputs": [],
   "source": []
  }
 ],
 "metadata": {
  "kernelspec": {
   "display_name": "Python 3",
   "language": "python",
   "name": "python3"
  },
  "language_info": {
   "codemirror_mode": {
    "name": "ipython",
    "version": 3
   },
   "file_extension": ".py",
   "mimetype": "text/x-python",
   "name": "python",
   "nbconvert_exporter": "python",
   "pygments_lexer": "ipython3",
   "version": "3.6.7"
  }
 },
 "nbformat": 4,
 "nbformat_minor": 2
}
