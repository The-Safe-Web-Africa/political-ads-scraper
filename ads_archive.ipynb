{
 "cells": [
  {
   "cell_type": "code",
   "execution_count": 1,
   "metadata": {},
   "outputs": [],
   "source": [
    "import requests\n",
    "\n",
    "import creds"
   ]
  },
  {
   "cell_type": "code",
   "execution_count": 2,
   "metadata": {},
   "outputs": [],
   "source": [
    "fields = [\n",
    "    'ad_active_status',\n",
    "    'ad_creative_body',\n",
    "    'ad_creation_time',\n",
    "    'ad_creative_link_caption',\n",
    "    'ad_creative_link_description',\n",
    "    'currency',\n",
    "    'funding_entity',\n",
    "    'impressions',\n",
    "    'ad_snapshot_url',\n",
    "    'page_id',\n",
    "    'page_name',\n",
    "    'spend',\n",
    "]"
   ]
  },
  {
   "cell_type": "code",
   "execution_count": 3,
   "metadata": {},
   "outputs": [
    {
     "data": {
      "text/plain": [
       "200"
      ]
     },
     "execution_count": 3,
     "metadata": {},
     "output_type": "execute_result"
    }
   ],
   "source": [
    "response = requests.get(\"https://graph.facebook.com/v3.3/ads_archive\",\n",
    "    params={\n",
    "        'fields': ','.join(fields),\n",
    "        'search_terms': \"''\",\n",
    "        'ad_reached_countries': \"['FR']\",\n",
    "        'limit': 25,\n",
    "        'access_token': creds.FB_TOKEN,\n",
    "    }\n",
    ")\n",
    "response.status_code"
   ]
  },
  {
   "cell_type": "code",
   "execution_count": null,
   "metadata": {},
   "outputs": [],
   "source": []
  },
  {
   "cell_type": "code",
   "execution_count": null,
   "metadata": {},
   "outputs": [],
   "source": []
  },
  {
   "cell_type": "code",
   "execution_count": 4,
   "metadata": {},
   "outputs": [],
   "source": [
    "json_data = response.json()"
   ]
  },
  {
   "cell_type": "code",
   "execution_count": 5,
   "metadata": {},
   "outputs": [
    {
     "data": {
      "text/plain": [
       "25"
      ]
     },
     "execution_count": 5,
     "metadata": {},
     "output_type": "execute_result"
    }
   ],
   "source": [
    "len(json_data['data'])"
   ]
  },
  {
   "cell_type": "code",
   "execution_count": 6,
   "metadata": {},
   "outputs": [
    {
     "data": {
      "text/plain": [
       "{'ad_creative_body': \"Ce jeudi 16 mai, embarquez sur la péniche India Tango, siège du projet Objectif Terre, pour un Apéro géant sur l'Europe et le climat !\",\n",
       " 'ad_creation_time': '2019-05-14T17:42:05+0000',\n",
       " 'ad_creative_link_caption': 'Apéro géant \"Vote4Climate?\" : L\\'Europe et le climat',\n",
       " 'ad_creative_link_description': 'Peniche India Tango',\n",
       " 'currency': 'EUR',\n",
       " 'funding_entity': 'Maxime Pierre Jean Santi',\n",
       " 'impressions': {'lower_bound': '0', 'upper_bound': '999'},\n",
       " 'ad_snapshot_url': 'https://www.facebook.com/ads/archive/render_ad/?id=825143224538166&access_token=EAASF2ZAZAZCjZBcBAKQzO5ggdnM5EzboOPtXfvbf8tkcUrqDBZBuqdEFdZBoMsPdt9Aa1YpA8J0yEKxyu4XUOcrBNncjxOWCjsGhCb1NpMsS4SCGcOyx9UI1AeWTpsnn2kN7Q9Ft9rHdez5yWC6HOEOVWN2vW2G6cT0ptyLHZCg12c85T5i1wy4LfrqqKwZAsNoZD',\n",
       " 'page_id': '287613515510457',\n",
       " 'page_name': 'Objective Earth',\n",
       " 'spend': {'lower_bound': '0', 'upper_bound': '99'}}"
      ]
     },
     "execution_count": 6,
     "metadata": {},
     "output_type": "execute_result"
    }
   ],
   "source": [
    "json_data['data'][0]"
   ]
  },
  {
   "cell_type": "code",
   "execution_count": null,
   "metadata": {},
   "outputs": [],
   "source": []
  }
 ],
 "metadata": {
  "kernelspec": {
   "display_name": "Python 3",
   "language": "python",
   "name": "python3"
  },
  "language_info": {
   "codemirror_mode": {
    "name": "ipython",
    "version": 3
   },
   "file_extension": ".py",
   "mimetype": "text/x-python",
   "name": "python",
   "nbconvert_exporter": "python",
   "pygments_lexer": "ipython3",
   "version": "3.6.7"
  }
 },
 "nbformat": 4,
 "nbformat_minor": 2
}
