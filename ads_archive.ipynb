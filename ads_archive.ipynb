{
 "cells": [
  {
   "cell_type": "code",
   "execution_count": 1,
   "metadata": {},
   "outputs": [],
   "source": [
    "import requests\n",
    "\n",
    "import creds"
   ]
  },
  {
   "cell_type": "code",
   "execution_count": 46,
   "metadata": {},
   "outputs": [],
   "source": [
    "FIELDS = [\n",
    "    'ad_creation_time',\n",
    "    'ad_creative_body',\n",
    "    'ad_creative_link_caption',\n",
    "    'ad_creative_link_description',\n",
    "    'ad_creative_link_title',\n",
    "    'ad_delivery_start_time',\n",
    "    'ad_delivery_stop_time',\n",
    "    'ad_snapshot_url',\n",
    "    'currency',\n",
    "    'demographic_distribution',\n",
    "    'funding_entity',\n",
    "    'impressions',\n",
    "    'page_id',\n",
    "    'page_name',\n",
    "    'region_distribution',\n",
    "    'spend',\n",
    "]\n"
   ]
  },
  {
   "cell_type": "code",
   "execution_count": 76,
   "metadata": {},
   "outputs": [],
   "source": [
    "def make_request(after=None):\n",
    "    params = {\n",
    "        # 'ad-type': 'POLITICAL_AND_ISSUE_ADS' (default)\n",
    "        'fields': ','.join(FIELDS),\n",
    "        'search_terms': \"''\",\n",
    "        'ad_reached_countries': \"['GB']\",\n",
    "        'limit': 5000,\n",
    "        'access_token': creds.FB_TOKEN,\n",
    "    }\n",
    "    if after:\n",
    "        params['after'] = after\n",
    "\n",
    "    response = requests.get(\n",
    "        \"https://graph.facebook.com/v3.3/ads_archive\",\n",
    "        params=params,\n",
    "    )\n",
    "\n",
    "    assert response.status_code == 200\n",
    "    json_data = response.json()\n",
    "    print('Got {} ads'.format(len(json_data['data'])))\n",
    "\n",
    "    assert set(json_data) == {'data', 'paging'}, set(json_data)\n",
    "    paging = json_data['paging']\n",
    "    assert set(paging) == {'cursors', 'next'}, paging\n",
    "    assert set(paging['cursors']) == {'after'}, paging\n",
    "\n",
    "    return json_data['data'], json_data['paging']['cursors']['after']"
   ]
  },
  {
   "cell_type": "code",
   "execution_count": null,
   "metadata": {},
   "outputs": [],
   "source": []
  },
  {
   "cell_type": "code",
   "execution_count": null,
   "metadata": {},
   "outputs": [],
   "source": []
  },
  {
   "cell_type": "code",
   "execution_count": 80,
   "metadata": {},
   "outputs": [
    {
     "name": "stdout",
     "output_type": "stream",
     "text": [
      "Got 2897 ads\n",
      "bWFudWFsX2N1cnNvcjpNVFUwTURJeE9UVTNOem95T0RreE9EUTNNekU0TURVMk5EWT0ZD\n"
     ]
    }
   ],
   "source": [
    "ads, after = make_request()\n",
    "print(after)"
   ]
  },
  {
   "cell_type": "code",
   "execution_count": null,
   "metadata": {},
   "outputs": [],
   "source": []
  }
 ],
 "metadata": {
  "kernelspec": {
   "display_name": "Python 3",
   "language": "python",
   "name": "python3"
  },
  "language_info": {
   "codemirror_mode": {
    "name": "ipython",
    "version": 3
   },
   "file_extension": ".py",
   "mimetype": "text/x-python",
   "name": "python",
   "nbconvert_exporter": "python",
   "pygments_lexer": "ipython3",
   "version": "3.6.7"
  }
 },
 "nbformat": 4,
 "nbformat_minor": 2
}
