{
 "cells": [
  {
   "cell_type": "code",
   "execution_count": 21,
   "metadata": {},
   "outputs": [],
   "source": [
    "import json\n",
    "\n",
    "from fb_fetch import fetch"
   ]
  },
  {
   "cell_type": "code",
   "execution_count": 17,
   "metadata": {},
   "outputs": [],
   "source": [
    "filenames = [\n",
    "    'facebook-ads-archive_FR_2019-05-16_11-55-05.json',\n",
    "    'facebook-ads-archive_FR_2019-05-16_15-30-09.json',\n",
    "    'facebook-ads-archive_FR_2019-05-16_20-37-43.json',\n",
    "    'facebook-ads-archive_FR_2019-05-20_14-03-03.json',\n",
    "    'facebook-ads-archive_FR_2019-05-27_14-53-52.json',\n",
    "    'facebook-ads-archive_FR_2019-05-27_16-23-19.json',\n",
    "    'facebook-ads-archive_FR_2019-05-27_16-30-54.json',\n",
    "]"
   ]
  },
  {
   "cell_type": "code",
   "execution_count": 19,
   "metadata": {},
   "outputs": [],
   "source": [
    "def search(search_text):\n",
    "\n",
    "    for filename in filenames:\n",
    "\n",
    "        with open(filename, 'r') as f:\n",
    "            ads = json.load(f)\n",
    "\n",
    "        ads_matching = [\n",
    "            ad\n",
    "            for ad in ads\n",
    "            if search_text in json.dumps(ad)\n",
    "        ]\n",
    "\n",
    "        print('Found {} ads matching'.format(len(ads_matching)))\n",
    "        print([fetch.get_ad_id(ad) for ad in ads_matching])"
   ]
  },
  {
   "cell_type": "code",
   "execution_count": 22,
   "metadata": {},
   "outputs": [
    {
     "name": "stdout",
     "output_type": "stream",
     "text": [
      "Found 11 ads matching\n",
      "['548037389020605', '355486088508672', '781008475607000', '619950025119849', '664679943950384', '2265314743719227', '305740323442045', '369424907233439', '2302520596655725', '547870215722000', '2316760961894602']\n",
      "Found 11 ads matching\n",
      "['548037389020605', '355486088508672', '781008475607000', '619950025119849', '664679943950384', '2265314743719227', '305740323442045', '369424907233439', '2302520596655725', '547870215722000', '2316760961894602']\n",
      "Found 11 ads matching\n",
      "['548037389020605', '355486088508672', '781008475607000', '619950025119849', '664679943950384', '2265314743719227', '305740323442045', '369424907233439', '2302520596655725', '547870215722000', '2316760961894602']\n",
      "Found 11 ads matching\n",
      "['548037389020605', '355486088508672', '781008475607000', '619950025119849', '664679943950384', '2265314743719227', '305740323442045', '369424907233439', '2302520596655725', '547870215722000', '2316760961894602']\n",
      "Found 0 ads matching\n",
      "[]\n",
      "Found 0 ads matching\n",
      "[]\n",
      "Found 0 ads matching\n",
      "[]\n"
     ]
    }
   ],
   "source": [
    "search('Bellamy')\n"
   ]
  },
  {
   "cell_type": "code",
   "execution_count": null,
   "metadata": {},
   "outputs": [],
   "source": []
  }
 ],
 "metadata": {
  "kernelspec": {
   "display_name": "Python 3",
   "language": "python",
   "name": "python3"
  },
  "language_info": {
   "codemirror_mode": {
    "name": "ipython",
    "version": 3
   },
   "file_extension": ".py",
   "mimetype": "text/x-python",
   "name": "python",
   "nbconvert_exporter": "python",
   "pygments_lexer": "ipython3",
   "version": "3.6.7"
  }
 },
 "nbformat": 4,
 "nbformat_minor": 2
}
