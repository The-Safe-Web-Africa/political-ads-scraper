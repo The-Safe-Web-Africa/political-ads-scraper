{
 "cells": [
  {
   "cell_type": "code",
   "execution_count": 7,
   "metadata": {},
   "outputs": [],
   "source": [
    "import requests\n",
    "\n",
    "from fb_fetch import fetch"
   ]
  },
  {
   "cell_type": "code",
   "execution_count": 2,
   "metadata": {},
   "outputs": [],
   "source": [
    "ADS_API_URL = \"https://graph.facebook.com/v3.3/ads_archive\"\n",
    "\n",
    "fb_token = fetch.get_fb_token()"
   ]
  },
  {
   "cell_type": "markdown",
   "metadata": {},
   "source": [
    "## Bellamy"
   ]
  },
  {
   "cell_type": "code",
   "execution_count": 13,
   "metadata": {},
   "outputs": [],
   "source": [
    "params = {\n",
    "    'ad_active_status': 'ALL',\n",
    "    # 'ad-type': 'POLITICAL_AND_ISSUE_ADS' (default)\n",
    "    'fields': ','.join(fetch.FIELDS),\n",
    "    'search_terms': \"'bellamy'\",\n",
    "    #'search_page_ids': ,\n",
    "    'ad_reached_countries': \"['FR']\",\n",
    "    'limit': 25,\n",
    "    'access_token': fb_token,\n",
    "}\n",
    "\n",
    "response = requests.get(\n",
    "    ADS_API_URL,\n",
    "    params=params,\n",
    ")"
   ]
  },
  {
   "cell_type": "code",
   "execution_count": 17,
   "metadata": {},
   "outputs": [
    {
     "data": {
      "text/plain": [
       "[{'ad_creation_time': '2019-05-11T17:10:47+0000',\n",
       "  'ad_creative_body': 'Jeudi 9 mai, nous étions mille à Pont-à-Mousson pour écouter Francois-Xavier BELLAMY qui emmène la liste d’union de la Droite et du Centre pour les élections européennes. Par son discours calme, profond, plein d’humanité, il a soulevé l’enthousiasme d’une assistance qui le découvrait.\\nCette élection, très importante pour notre avenir, ne se résume pas à un face-à-face « liste Macron contre liste Le Pen », comme on pourrait le croire en écoutant les médias. Il y a une alternative très sérieuse, réfléchie, chaleureuse. Elle s’appelle BELLAMY !\\nPrenez 5 mn, regardez la vidéo, ensuite, à vous de juger. \\nAmicalement',\n",
       "  'ad_delivery_start_time': '2019-05-11T17:10:49+0000',\n",
       "  'ad_delivery_stop_time': '2019-05-21T17:10:47+0000',\n",
       "  'ad_snapshot_url': 'https://www.facebook.com/ads/archive/render_ad/?id=352588492056332&access_token=EAASF2ZAZAZCjZBcBAH0RIRNIwQ9otCX2JNZCRZCOfVUxOpNi4DEHJb966Obdf7rQzyVFenQ8ZCeTuWIrFgg1iDYoMKgWaq069E8eUqz0l0YCUVFO6zzWzcdQUjwD8oW9WK1expF9nZBFwdStll58tTcRai3Bj8bKciKkbHF3FDyANqvmxGCzeQT8dnSHxNmU5uGuR99Nhxw9YAZDZD',\n",
       "  'currency': 'EUR',\n",
       "  'demographic_distribution': [{'percentage': '0.000401',\n",
       "    'age': '18-24',\n",
       "    'gender': 'female'},\n",
       "   {'percentage': '0.002806', 'age': '25-34', 'gender': 'female'},\n",
       "   {'percentage': '0.083367', 'age': '65+', 'gender': 'female'},\n",
       "   {'percentage': '0.042084', 'age': '45-54', 'gender': 'female'},\n",
       "   {'percentage': '0.164729', 'age': '65+', 'gender': 'male'},\n",
       "   {'percentage': '0.222846', 'age': '45-54', 'gender': 'male'},\n",
       "   {'percentage': '0.190782', 'age': '55-64', 'gender': 'male'},\n",
       "   {'percentage': '0.014429', 'age': '35-44', 'gender': 'female'},\n",
       "   {'percentage': '0.002405', 'age': '35-44', 'gender': 'unknown'},\n",
       "   {'percentage': '0.014429', 'age': '18-24', 'gender': 'male'},\n",
       "   {'percentage': '0.000802', 'age': '25-34', 'gender': 'unknown'},\n",
       "   {'percentage': '0.001603', 'age': '55-64', 'gender': 'unknown'},\n",
       "   {'percentage': '0.002405', 'age': '45-54', 'gender': 'unknown'},\n",
       "   {'percentage': '0.001202', 'age': '65+', 'gender': 'unknown'},\n",
       "   {'percentage': '0.048096', 'age': '25-34', 'gender': 'male'},\n",
       "   {'percentage': '0.086573', 'age': '55-64', 'gender': 'female'},\n",
       "   {'percentage': '0.121042', 'age': '35-44', 'gender': 'male'}],\n",
       "  'impressions': {'lower_bound': '1000', 'upper_bound': '4999'},\n",
       "  'page_id': '1831205583859203',\n",
       "  'page_name': 'Jacques Lamblin',\n",
       "  'region_distribution': [{'percentage': '1', 'region': 'Lorraine'}],\n",
       "  'spend': {'lower_bound': '0', 'upper_bound': '99'}},\n",
       " {'ad_creation_time': '2019-04-07T12:03:29+0000',\n",
       "  'ad_creative_body': 'POUR LA FRANCE: TRANSFORMER L’EUROPE\\n\\nVendredi dernier, à Pontarlier, notre ami Arnaud DANJEAN était parmi nous pour lancer très officiellement la campagne des élections européennes dans notre département du Doubs.\\n\\nTout au long de la journée, aux côtés d’Annie GENEVARD, notre Secrétaire Générale, il a sillonner les terres du Haut Doubs à la rencontre des élus locaux, des agriculteurs, des commerçants et des électeurs.\\n\\nMerci à nos nombreux élus et cadres LR et DVD d’avoir, par leur présence, assuré le succès de ce lancement de campagne ....\\n\\nMerci plus particulièrement à Annie Genevard, Jean Marie Binetruy, Jacques Grosperrin, Alain Marguet, Patrick Genre, Frédéric Cartier, Daniel Prieur, Laurence Mulot, Gérard Deque,  Cedric Bole, Guillaume Bailly, Jacky Claudet, Quentin Touzalin, Micheline Creusy, Annie Poignand, Xavier Gervasonni ainsi qu’à nos valeureux GPR.\\n\\nCoup de chapeau à Marie Laure DALPHIN, qui a su capter notre attention, en soirée, en début de réunion publique , en sa qualité de future colistière de François Xavier BELLAMY, d’Agnes EVREN et d’Arnaud DANJEAN. Près de 200 supporters de notre liste étaient présents salle Morand.\\n\\nL’heure est à la mobilisation générale à l’occasion de ce début de campagne..... \\n\\nEnsemble, unis et rassemblés, avec vous, nous allons surprendre et gagner .....\\n\\nA noter nos 2 prochains RDV:\\n\\n- à Montbéliard, le mardi 30 avril à 20h, réunion publique avec Anne SANDER\\n  - à Besançon Micropolis, le samedi 11 mai à 17h, Meeting National en présence de François Xavier BELLAMY, Agnès EVREN, Arnaud DANJEAN et l’ensemble des colistiers.',\n",
       "  'ad_delivery_start_time': '2019-04-07T12:03:30+0000',\n",
       "  'ad_delivery_stop_time': '2019-04-17T12:03:29+0000',\n",
       "  'ad_snapshot_url': 'https://www.facebook.com/ads/archive/render_ad/?id=2342348566001368&access_token=EAASF2ZAZAZCjZBcBAH0RIRNIwQ9otCX2JNZCRZCOfVUxOpNi4DEHJb966Obdf7rQzyVFenQ8ZCeTuWIrFgg1iDYoMKgWaq069E8eUqz0l0YCUVFO6zzWzcdQUjwD8oW9WK1expF9nZBFwdStll58tTcRai3Bj8bKciKkbHF3FDyANqvmxGCzeQT8dnSHxNmU5uGuR99Nhxw9YAZDZD',\n",
       "  'currency': 'EUR',\n",
       "  'demographic_distribution': [{'percentage': '1',\n",
       "    'age': '35-44',\n",
       "    'gender': 'male'}],\n",
       "  'impressions': {'lower_bound': '0', 'upper_bound': '999'},\n",
       "  'page_id': '1561804270788242',\n",
       "  'page_name': 'Les Républicains - Fédération du Doubs',\n",
       "  'region_distribution': [{'percentage': '1', 'region': 'Franche-Comté'}],\n",
       "  'spend': {'lower_bound': '0', 'upper_bound': '99'}}]"
      ]
     },
     "execution_count": 17,
     "metadata": {},
     "output_type": "execute_result"
    }
   ],
   "source": [
    "ads = response.json()['data']\n",
    "ads"
   ]
  },
  {
   "cell_type": "code",
   "execution_count": 16,
   "metadata": {},
   "outputs": [
    {
     "data": {
      "text/plain": [
       "2"
      ]
     },
     "execution_count": 16,
     "metadata": {},
     "output_type": "execute_result"
    }
   ],
   "source": [
    "len(ads)"
   ]
  },
  {
   "cell_type": "markdown",
   "metadata": {},
   "source": [
    "## G'Sunder Vrac"
   ]
  },
  {
   "cell_type": "code",
   "execution_count": 18,
   "metadata": {},
   "outputs": [],
   "source": [
    "params = {\n",
    "    'ad_active_status': 'ALL',\n",
    "    # 'ad-type': 'POLITICAL_AND_ISSUE_ADS' (default)\n",
    "    'fields': ','.join(fetch.FIELDS),\n",
    "    'search_terms': \"'sunder'\",\n",
    "    #'search_page_ids': ,\n",
    "    'ad_reached_countries': \"['FR']\",\n",
    "    'limit': 25,\n",
    "    'access_token': fb_token,\n",
    "}\n",
    "\n",
    "response = requests.get(\n",
    "    ADS_API_URL,\n",
    "    params=params,\n",
    ")"
   ]
  },
  {
   "cell_type": "code",
   "execution_count": 19,
   "metadata": {},
   "outputs": [
    {
     "data": {
      "text/plain": [
       "[{'ad_creation_time': '2019-05-01T19:30:58+0000',\n",
       "  'ad_creative_body': '[ Opération Famille en Transition ]\\n\\nChose promise, chose due !  On vous avait annoncé une petite surprise pour la fin de la semaine. \\U0001f973\\n\\nEn association avec différents partenaires, G\\'Sunder Vrac lance l\\'opération Famille en Transition ! \\n\\nMais qu\\'est ce que c\\'est ? \\n\\nGrâce à un tirage au sort, nous sélectionnerons trois familles volontaires pour devenir Famille en transition pendant une durée d\\'un an. L\\'objectif ? Vous aider à réduire vos déchets ! 🌎\\n\\nCes familles seront accompagnées par G\\'Sunder Vrac et ses partenaires dès le début de l\\'année 2020.\\n\\nAu programme :\\n\\n- Un kit de démarrage du Super Héro du Zéro Déchet : des bocaux, des sacs à vrac, des accessoires lavables et réutilisables aussi bien pour la salle de bain que la cuisine, ... (et une cape de super héro pour ceux qui insisteraient \\U0001f9b8\\u200d♂️ )\\n- Des ateliers Zéro Déchet à votre domicile avec vos invités,\\n- Des ateliers Jardin & Compost (Lombricompost pour ceux résidant en appartement sans jardin),\\n- Des ateliers à définir selon vos besoins (Atelier spécial bébé pour les jeunes parents, atelier permaculture pour les passionnés du jardin...) \\n- Une aide au tri et à la revalorisation des déchets\\n- Un suivi personnalisé,\\n- Et bien d\\'autres surprises !\\n\\nCa y est, on vous a mis l\\'eau à la bouche ? Pour participer, c\\'est tout simple ! \\n\\nIl vous suffit de :\\n\\n- contribuer au projet G\\'Sunder Vrac ici 👉https://www.tudigo.co/don/gsunder-vrac (du montant de votre choix)\\n- aimer la page G\\'Sunder Vrac\\n- laisser en commentaire sur cette publication \" Je participe au tirage au sort des Familles en Transition \"\\n\\nQue vous soyez seul(e), accompagné(e), parents ou éleveur de loutres, toutes les candidatures sont acceptées ! La seule condition est de résider dans le Nord du Bas-Rhin. \\n\\nPour ceux et celles qui ont déjà contribué au projet, tout d\\'abord, un énorme merci ! et ensuite, pas de crainte, il vous suffit de poster un commentaire ici et d\\'ignorer les autres étapes 😉\\n\\nN\\'hésitez pas à nous contacter si vous voulez en savoir plus ! Sur cette page ou par mail : gsundervrac@gmail.com\\n\\nUn très beau dimanche à vous tous.',\n",
       "  'ad_delivery_start_time': '2019-05-01T19:31:00+0000',\n",
       "  'ad_delivery_stop_time': '2019-05-11T19:30:58+0000',\n",
       "  'ad_snapshot_url': 'https://www.facebook.com/ads/archive/render_ad/?id=608888932962087&access_token=EAASF2ZAZAZCjZBcBAH0RIRNIwQ9otCX2JNZCRZCOfVUxOpNi4DEHJb966Obdf7rQzyVFenQ8ZCeTuWIrFgg1iDYoMKgWaq069E8eUqz0l0YCUVFO6zzWzcdQUjwD8oW9WK1expF9nZBFwdStll58tTcRai3Bj8bKciKkbHF3FDyANqvmxGCzeQT8dnSHxNmU5uGuR99Nhxw9YAZDZD',\n",
       "  'currency': 'EUR',\n",
       "  'demographic_distribution': [{'percentage': '0.001513',\n",
       "    'age': '55-64',\n",
       "    'gender': 'unknown'},\n",
       "   {'percentage': '0.151286', 'age': '18-24', 'gender': 'male'},\n",
       "   {'percentage': '0.140696', 'age': '18-24', 'gender': 'female'},\n",
       "   {'percentage': '0.114977', 'age': '25-34', 'gender': 'male'},\n",
       "   {'percentage': '0.060514', 'age': '45-54', 'gender': 'female'},\n",
       "   {'percentage': '0.059002', 'age': '35-44', 'gender': 'male'},\n",
       "   {'percentage': '0.216339', 'age': '25-34', 'gender': 'female'},\n",
       "   {'percentage': '0.15885', 'age': '35-44', 'gender': 'female'},\n",
       "   {'percentage': '0.025719', 'age': '55-64', 'gender': 'female'},\n",
       "   {'percentage': '0.022693', 'age': '45-54', 'gender': 'male'},\n",
       "   {'percentage': '0.013616', 'age': '65+', 'gender': 'female'},\n",
       "   {'percentage': '0.019667', 'age': '55-64', 'gender': 'male'},\n",
       "   {'percentage': '0.004539', 'age': '35-44', 'gender': 'unknown'},\n",
       "   {'percentage': '0.006051', 'age': '65+', 'gender': 'male'},\n",
       "   {'percentage': '0.003026', 'age': '18-24', 'gender': 'unknown'},\n",
       "   {'percentage': '0.001513', 'age': '65+', 'gender': 'unknown'}],\n",
       "  'funding_entity': 'Clotilde Marie-Bernard Burger Jung',\n",
       "  'impressions': {'lower_bound': '1000', 'upper_bound': '4999'},\n",
       "  'page_id': '409734883189021',\n",
       "  'page_name': \"G'Sunder Vrac\",\n",
       "  'region_distribution': [{'percentage': '1', 'region': 'Alsace'}],\n",
       "  'spend': {'lower_bound': '0', 'upper_bound': '99'}}]"
      ]
     },
     "execution_count": 19,
     "metadata": {},
     "output_type": "execute_result"
    }
   ],
   "source": [
    "ads = response.json()['data']\n",
    "ads"
   ]
  }
 ],
 "metadata": {
  "kernelspec": {
   "display_name": "Python 3",
   "language": "python",
   "name": "python3"
  },
  "language_info": {
   "codemirror_mode": {
    "name": "ipython",
    "version": 3
   },
   "file_extension": ".py",
   "mimetype": "text/x-python",
   "name": "python",
   "nbconvert_exporter": "python",
   "pygments_lexer": "ipython3",
   "version": "3.6.7"
  }
 },
 "nbformat": 4,
 "nbformat_minor": 2
}
